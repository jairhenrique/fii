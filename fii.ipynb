{
  "nbformat": 4,
  "nbformat_minor": 2,
  "metadata": {
    "colab": {
      "name": "fii.ipynb",
      "provenance": [],
      "collapsed_sections": [],
      "authorship_tag": "ABX9TyN1HPGsyFvIP5/2pWPZmK3Y",
      "include_colab_link": true
    },
    "kernelspec": {
      "name": "python3",
      "display_name": "Python 3.9.1 64-bit ('django-ninja': pyenv)"
    },
    "language_info": {
      "name": "python",
      "version": "3.9.1",
      "mimetype": "text/x-python",
      "codemirror_mode": {
        "name": "ipython",
        "version": 3
      },
      "pygments_lexer": "ipython3",
      "nbconvert_exporter": "python",
      "file_extension": ".py"
    },
    "interpreter": {
      "hash": "a4411000b66568413b50eb12f0ec6a1b4816de807e3d7598b0533a93b988c131"
    }
  },
  "cells": [
    {
      "cell_type": "markdown",
      "source": [
        "<a href=\"https://colab.research.google.com/github/jairhenrique/fii/blob/main/fii.ipynb\" target=\"_parent\"><img src=\"https://colab.research.google.com/assets/colab-badge.svg\" alt=\"Open In Colab\"/></a>"
      ],
      "metadata": {
        "id": "view-in-github",
        "colab_type": "text"
      }
    },
    {
      "cell_type": "markdown",
      "source": [
        "# Setup"
      ],
      "metadata": {
        "id": "DkR3vBb-KjDS"
      }
    },
    {
      "cell_type": "code",
      "execution_count": null,
      "source": [
        "!pip install requests lxml pandas requests"
      ],
      "outputs": [],
      "metadata": {}
    },
    {
      "cell_type": "code",
      "execution_count": null,
      "source": [
        "import pandas as pd\n",
        "import requests\n",
        "from tabulate import tabulate\n",
        "\n",
        "def get_html_page(url):\n",
        "    return requests.get(url).text\n",
        "\n",
        "pd.options.display.float_format = '{:.2f}'.format\n",
        "\n",
        "page_data = get_html_page(\"https://www.fundsexplorer.com.br/ranking\")\n",
        "\n",
        "df = pd.read_html(page_data)[0]\n",
        "df.columns = [\n",
        "    \"Código\",\n",
        "    \"Setor\",\n",
        "    \"Preço Atual\",\n",
        "    \"Liquidez Diária\",\n",
        "    \"Dividendo\",\n",
        "    \"Dividend Yield\",\n",
        "    \"DY (3M) Acumulado\",\n",
        "    \"DY (6M) Acumulado\",\n",
        "    \"DY (12M) Acumulado\",\n",
        "    \"DY (3M) Média\",\n",
        "    \"DY (6M) Média\",\n",
        "    \"DY (12M) Média\",\n",
        "    \"DY Ano\",\n",
        "    \"Variação Preço\",\n",
        "    \"Rentab. Período\",\n",
        "    \"Rentab. Acumulada\",\n",
        "    \"Patrimônio Líq.\",\n",
        "    \"VPA\",\n",
        "    \"P/VPA\",\n",
        "    \"DY Patrimonial\",\n",
        "    \"Variação Patrimonial\",\n",
        "    \"Rentab. Patr. no Período\",\n",
        "    \"Rentab. Patr. Acumulada\",\n",
        "    \"Vacância Física\",\n",
        "    \"Vacância Financeira\",\n",
        "    \"Quantidade Ativos\",\n",
        "]\n",
        "\n",
        "df[\"P/VPA\"] = df[\"P/VPA\"] / 100\n",
        "df.replace([\"%\", \"\\.\", \"R\\$\"], \"\", regex=True, inplace=True)\n",
        "df.replace(\",\", \".\", regex=True, inplace=True)\n",
        "df.sort_values(by=[\"P/VPA\", \"Dividend Yield\"], inplace=True, ascending=[True, False])"
      ],
      "outputs": [],
      "metadata": {
        "id": "26D2AVxnLsKS"
      }
    },
    {
      "cell_type": "markdown",
      "source": [
        "# Edite a lista de FII's"
      ],
      "metadata": {}
    },
    {
      "cell_type": "code",
      "execution_count": null,
      "source": [
        "fiis = [\n",
        "    \"BCFF11\",\n",
        "    \"BRCR11\",\n",
        "    \"BTLG11\",\n",
        "    \"HGCR11\",\n",
        "    \"VRTA11\",\n",
        "    \"GGRC11\",\n",
        "    \"HCTR11\",\n",
        "    \"FIIB11\",\n",
        "    \"KISU11\",\n",
        "    \"KNRI11\",\n",
        "    \"MXRF11\",\n",
        "    \"QAGR11\",\n",
        "    \"TORD11\",\n",
        "    \"XPLG11\",\n",
        "    \"XPML11\"\n",
        "]"
      ],
      "outputs": [],
      "metadata": {
        "id": "7zwXa_91LvWV"
      }
    },
    {
      "cell_type": "code",
      "execution_count": null,
      "source": [
        "filtered_fiis = df[df[\"Código\"].isin(fiis)]\n",
        "selected_columns = filtered_fiis[[\"Código\", \"Setor\", \"Preço Atual\", \"Dividend Yield\", \"DY (3M) Média\", \"DY (6M) Média\", \"DY (12M) Média\", \"VPA\", \"P/VPA\"]]\n",
        "selected_columns"
      ],
      "outputs": [],
      "metadata": {
        "id": "BMQLEdRHL27U"
      }
    }
  ]
}